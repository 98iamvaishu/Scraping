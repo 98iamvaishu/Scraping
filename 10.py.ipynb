{
 "cells": [
  {
   "cell_type": "code",
   "execution_count": 14,
   "metadata": {},
   "outputs": [
    {
     "name": "stdout",
     "output_type": "stream",
     "text": [
      "[<selenium.webdriver.remote.webelement.WebElement (session=\"82f3c63a1451d38e33c7050ac320c87c\", element=\"3bee271a-9116-4781-aa84-4e7ec33defa5\")>]\n"
     ]
    }
   ],
   "source": [
    "from selenium import webdriver\n",
    "from bs4 import BeautifulSoup\n",
    "driver = webdriver.Chrome(executable_path=r'C:/Users/vaishnavi/Downloads/chromedriver_win32/chromedriver.exe')\n",
    "url = 'https://blockscout.com'+next_page\n",
    "driver.get(url)\n",
    "driver.implicitly_wait(50)\n",
    "table = driver.find_elements_by_xpath(\"/html/body/div/main/section/div/div/div[2]/div/table/tbody\")\n",
    "print(table)"
   ]
  },
  {
   "cell_type": "code",
   "execution_count": 15,
   "metadata": {},
   "outputs": [
    {
     "name": "stdout",
     "output_type": "stream",
     "text": [
      "['/poa/xdai/address/0x1195001a508d6ba4038b6583005cd68450faf0e9', '/poa/xdai/address/0xb22eb8cf6392f34829e38532b326a9e989bdab44', '/poa/xdai/address/0x123456789504fc9a8d69381e50bda77965584b8e', '/poa/xdai/address/0xbbbe5eda0f02f6302a975e312b61d81b6305629d', '/poa/xdai/address/0xc835c3dcfd49bb7b3e4e90532db48e270160f946', '/poa/xdai/address/0xa844a3d097154799baa247500e4bd600b2b8eeab', '/poa/xdai/address/0x0c175888c24a6d4b22727c19073531f15f04d435', '/poa/xdai/address/0x0f118c474b3938a520c4f6ff16956bf50cf7026e', '/poa/xdai/address/0x115b91530e6c117c6d3873f1186b9fdef1f69c2d', '/poa/xdai/address/0x12ae8851f42c44628f10acc64fcd78b2f94fc9a4', '/poa/xdai/address/0x18514bacc90d2e2caaefe501f64c75882c0cf162', '/poa/xdai/address/0x191252602307818aad12367c9a7c6a66ee1b6f80', '/poa/xdai/address/0x2350dd102c6bec04471a1d9609c730a7042e5edd', '/poa/xdai/address/0x2e1a72dc68aa0b490cc6d9117abaee79628603b1', '/poa/xdai/address/0x34dbd6e4565a875352e36350c3286e48b35bc690', '/poa/xdai/address/0x36c3405a7fe55660f4cf79b8225a833e7f042e20', '/poa/xdai/address/0x40bdbfaea6d13e976b119a33b217ae36a7c43bfe', '/poa/xdai/address/0x471293f4d388697bc323e1f69a9f158622ba714e', '/poa/xdai/address/0x48fecd848f2ed6d317217d23a328820a83f8f006', '/poa/xdai/address/0x4f297e3e43cc320aaaf12fd8812fcffce6986b6b', '/poa/xdai/address/0x5bb45b5d4f4e1255c8dd1a5df4a408f9b4da1c87', '/poa/xdai/address/0x641dedad8494b785af106abd06724c051aa09093', '/poa/xdai/address/0x6847576c8f65e8fa301651e7a0a3a53715e47d78', '/poa/xdai/address/0x68519105fe88f512b9603c489a770df083e96a08', '/poa/xdai/address/0x687b40e1f512488b4ecb25e25d094c9e2991b763', '/poa/xdai/address/0x76ea6afdb1c6f1ec38228d0c76261449227878d2', '/poa/xdai/address/0x7a97b478f8c29f89f95600978ae67705058127ed', '/poa/xdai/address/0x9058343f6ba46f3fd7a1b2e93af7173ce2428e51', '/poa/xdai/address/0x915ff7ac59756741286c751d8c55d7bb3af6ff83', '/poa/xdai/address/0x9cbc0d8745ef9b9f2527a3a5ef61e53e8b5f101e', '/poa/xdai/address/0xa4b1c4cf7b94bef41abc0d1ce7874445fb33045c', '/poa/xdai/address/0xa5e3c915090ddc6c53de4555ee8ca2cff888b7f4', '/poa/xdai/address/0xa980d9beff6dcb55a89fbb293f9e25d8b55a4471', '/poa/xdai/address/0xb2f46f717021990ee4a671d8ff900053da05f477', '/poa/xdai/address/0xbbd82c8a1517a2ced2c895755255b35938168926', '/poa/xdai/address/0xc2986120b4c2c48199965b920a0f04c54f3f4084', '/poa/xdai/address/0xc3329b6d296178aac82ab927ae44594c6af161bc', '/poa/xdai/address/0xc7dd04bab6b08f9862a307cb7fd38f4e80f0cff8', '/poa/xdai/address/0xc99df1309cafbbe7d7ffa14092f270985e6aa79c', '/poa/xdai/address/0xce3d28864845af0d544607a9a5f984107cab8d95', '/poa/xdai/address/0xd0d9b921db6a93414ead71df70bb4b16ed0ee0e9', '/poa/xdai/address/0xd93e128df499aa4326bb49c731970020a3bfad9c', '/poa/xdai/address/0xe55ff1a9316b9540cf2841e3707aaeb743848943', '/poa/xdai/address/0xe6787bea0bb18f0e1465c50a46fee392c80e54fb', '/poa/xdai/address/0xe9158bb92de2408520b51ad102be2a8ec0d34b16', '/poa/xdai/address/0xefe3f25abb817d22edd1ca9311effc3cbe9383b5', '/poa/xdai/address/0xfc3a7fb0997fbf941d83130a45897703f7e7b1e6', '/poa/xdai/address/0x63ef519a22a5f68040f1b73eeef797ce0b56ba96', '/poa/xdai/address/0x778549eb292ac98a96a05e122967f22efa003707', '/poa/xdai/address/0xfc14f1303029e7efaf3e6500ab862e1f53c2a9fa']\n"
     ]
    }
   ],
   "source": [
    "row = table[0].get_attribute('innerHTML')\n",
    "addresses = []\n",
    "soup = BeautifulSoup(row,'html.parser')\n",
    "r = soup.find_all(\"tr\")\n",
    "for i,x in enumerate(r):\n",
    "    col = x.find_all(\"td\")\n",
    "    addresses.append(col[1].a[\"href\"])\n",
    "print(addresses)"
   ]
  },
  {
   "cell_type": "code",
   "execution_count": 16,
   "metadata": {},
   "outputs": [
    {
     "name": "stdout",
     "output_type": "stream",
     "text": [
      "start\n",
      "0\n",
      "ready\n",
      "1\n",
      "ready\n",
      "2\n",
      "ready\n",
      "3\n",
      "ready\n",
      "4\n",
      "ready\n",
      "5\n",
      "ready\n",
      "6\n",
      "ready\n",
      "7\n",
      "ready\n",
      "8\n",
      "ready\n",
      "9\n",
      "ready\n",
      "10\n",
      "ready\n",
      "11\n",
      "ready\n",
      "12\n",
      "ready\n",
      "13\n",
      "ready\n",
      "14\n",
      "ready\n",
      "15\n",
      "ready\n",
      "16\n",
      "ready\n",
      "17\n",
      "ready\n",
      "18\n",
      "ready\n",
      "19\n",
      "ready\n",
      "20\n",
      "ready\n",
      "21\n",
      "ready\n",
      "22\n",
      "ready\n",
      "23\n",
      "ready\n",
      "24\n",
      "ready\n",
      "25\n",
      "ready\n",
      "26\n",
      "ready\n",
      "27\n",
      "ready\n",
      "28\n",
      "ready\n",
      "29\n",
      "ready\n",
      "30\n",
      "ready\n",
      "31\n",
      "ready\n",
      "32\n",
      "ready\n",
      "33\n",
      "ready\n",
      "34\n",
      "ready\n",
      "35\n",
      "ready\n",
      "36\n",
      "ready\n",
      "37\n",
      "ready\n",
      "38\n",
      "ready\n",
      "39\n",
      "ready\n",
      "40\n",
      "ready\n",
      "41\n",
      "ready\n",
      "42\n",
      "ready\n",
      "43\n",
      "ready\n",
      "44\n",
      "ready\n",
      "45\n",
      "ready\n",
      "46\n",
      "ready\n",
      "47\n",
      "ready\n",
      "48\n",
      "ready\n",
      "49\n",
      "ready\n",
      "done\n"
     ]
    }
   ],
   "source": [
    "import time\n",
    "import pandas as pd\n",
    "\n",
    "from selenium.webdriver.support.ui import WebDriverWait\n",
    "from urllib.request import Request, urlopen\n",
    "print(\"start\")\n",
    "cols = ['Address','Balance','Ether_value','exchange_rate']\n",
    "balance = pd.DataFrame(columns = cols)\n",
    "ind = 93\n",
    "for i,addr in enumerate(addresses):\n",
    "    print(i)\n",
    "    bal = []\n",
    "    try:\n",
    "        ad = (addr.split('/'))[4]\n",
    "        url =  'https://blockscout.com'+addr+'/transactions'\n",
    "        op = webdriver.ChromeOptions()\n",
    "        op.add_argument('headless')\n",
    "        drive = webdriver.Chrome(executable_path=r'C:/Users/vaishnavi/Downloads/chromedriver_win32/chromedriver.exe',options=op)\n",
    "        drive.get(url)\n",
    "        drive.implicitly_wait(20)\n",
    "        print(\"ready\")\n",
    "        row = drive.page_source\n",
    "        soup = BeautifulSoup(row,'html.parser')\n",
    "        eth = soup.find(\"div\", {\"class\": \"text-right\"})\n",
    "        bal.append(ad)\n",
    "        bal.append(eth.h3.text)\n",
    "        bal.append(eth.span.text)\n",
    "        bal.append(eth.span[\"data-usd-exchange-rate\"])\n",
    "        balance.loc[ind] = bal\n",
    "        ind = ind+1\n",
    "\n",
    "        down = soup.find(\"a\", {\"class\": \"download-all-transactions-link\"})\n",
    "        d_url = down[\"href\"]\n",
    "        d = \"https://blockscout.com\"+d_url\n",
    "        try:\n",
    "            df = pd.read_csv(d)  \n",
    "        except:\n",
    "            print(\"error\")\n",
    "        df['Address'] = ad\n",
    "        drive.close()\n",
    "    except Exception as e: \n",
    "        print(e)\n",
    "balance.to_csv(r'F:\\vprojects\\final_year\\phase2_bal.csv',mode='a', header=False)\n",
    "df.to_csv(r'F:\\vprojects\\final_year\\phase2_trans.csv',mode='a',header=False)\n",
    "   \n",
    "print(\"done\")"
   ]
  },
  {
   "cell_type": "code",
   "execution_count": 13,
   "metadata": {},
   "outputs": [
    {
     "name": "stdout",
     "output_type": "stream",
     "text": [
      "/poa/xdai/accounts?fetched_coin_balance=6999979000000000000&hash=0xbaf43f957dcd3d3d24ed211f5011a0d6e2d5498b\n"
     ]
    }
   ],
   "source": [
    "s = driver.page_source\n",
    "x = driver.find_elements_by_xpath(\"/html/body/div/main/section/div/div/div[3]/ul/li[4]\")\n",
    "\n",
    "ne =BeautifulSoup((x[0].get_attribute('innerHTML')),'html.parser')\n",
    "\n",
    "m = ne.find(\"a\", {\"class\": \"page-link\"})\n",
    "\n",
    "next_page = m[\"href\"]\n",
    "print(next_page)"
   ]
  },
  {
   "cell_type": "code",
   "execution_count": null,
   "metadata": {},
   "outputs": [],
   "source": [
    "print(df)"
   ]
  },
  {
   "cell_type": "code",
   "execution_count": null,
   "metadata": {},
   "outputs": [],
   "source": []
  }
 ],
 "metadata": {
  "kernelspec": {
   "display_name": "Python 3",
   "language": "python",
   "name": "python3"
  },
  "language_info": {
   "codemirror_mode": {
    "name": "ipython",
    "version": 3
   },
   "file_extension": ".py",
   "mimetype": "text/x-python",
   "name": "python",
   "nbconvert_exporter": "python",
   "pygments_lexer": "ipython3",
   "version": "3.6.4"
  }
 },
 "nbformat": 4,
 "nbformat_minor": 2
}
