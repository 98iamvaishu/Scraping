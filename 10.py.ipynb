{
 "cells": [
  {
   "cell_type": "code",
   "execution_count": 31,
   "metadata": {},
   "outputs": [
    {
     "name": "stdout",
     "output_type": "stream",
     "text": [
      "[<selenium.webdriver.remote.webelement.WebElement (session=\"2e766847afa72f555d5e310685f5d78c\", element=\"28a4cbcc-b7e7-4c06-beaf-f19756093d22\")>] /poa/xdai/accounts?fetched_coin_balance=9999868000000000000&hash=0x1b8913a9bafbe4afbc5794df01649cb69bee91e3 https://blockscout.com/poa/xdai/accounts?fetched_coin_balance=9999868000000000000&hash=0x1b8913a9bafbe4afbc5794df01649cb69bee91e3\n"
     ]
    }
   ],
   "source": [
    "from selenium import webdriver\n",
    "from bs4 import BeautifulSoup\n",
    "driver = webdriver.Chrome(executable_path=r'C:/Users/vaishnavi/Downloads/chromedriver_win32/chromedriver.exe')\n",
    "url = 'https://blockscout.com'+next_page\n",
    "driver.get(url)\n",
    "driver.implicitly_wait(50)\n",
    "table = driver.find_elements_by_xpath(\"/html/body/div/main/section/div/div/div[2]/div/table/tbody\")\n",
    "print(table,next_page,url)"
   ]
  },
  {
   "cell_type": "code",
   "execution_count": 32,
   "metadata": {},
   "outputs": [
    {
     "name": "stdout",
     "output_type": "stream",
     "text": [
      "['/poa/xdai/address/0x38e32b84e7be0f38c4f1e1c4ea539872e6dc76a5', '/poa/xdai/address/0x0aaa8c3aa86b8afcf7b33d65f3bbe76952d02c0d', '/poa/xdai/address/0xd369b7efeb3fa9834ee4561a2728303d0ff93b7b', '/poa/xdai/address/0x2fd9d762f1cf60ce4457d76b03387229938b061e', '/poa/xdai/address/0xec87d64ee27e33df449a1dbf5b6de2ebd26940ea', '/poa/xdai/address/0x4fd503dc6698d7c17558fbf81b9c293ddcea470f', '/poa/xdai/address/0x133c2d78b5fcae9c6005a9fd79240338c93f4af2', '/poa/xdai/address/0x1f01c8d636d2072f1948a42c8307311af021134d', '/poa/xdai/address/0x5a92bc71ff2cee03202db6b625cb074d588344bb', '/poa/xdai/address/0xa9d6884881fafb4fd721ddff0677d41faeeed1e0', '/poa/xdai/address/0x4b30f55490179e4b690bd1409e861ac9ba602391', '/poa/xdai/address/0xd23bbb6ae707585039261e37fcbc4c5b181c1167', '/poa/xdai/address/0x538f6bd9e4ebc4bba3c30d478c34f2886bfcb9e2', '/poa/xdai/address/0x013c36291950ec14510bc3133d185f4e66f7b724', '/poa/xdai/address/0x480a4f9b5232d93b694c1ce9e4d67d0fb0eb4c1a', '/poa/xdai/address/0x0dd8a2475cde740abfda68ed79446aa534810f9e', '/poa/xdai/address/0xf07765871d7123e40ee17acbeb9f2eb065cfca8b', '/poa/xdai/address/0x0f45231ecafc400d60dc0e6805c27bbf3b8ab5a0', '/poa/xdai/address/0x4242ad426828c564a61c8bd0a66d8d219db4409b', '/poa/xdai/address/0xef5d6a39ed285a9299c679fd2863bc28bb2f1106', '/poa/xdai/address/0xf8c29461d473daf561912ba76f441dfd8d2cc6bf', '/poa/xdai/address/0xe8bf424e047372d249d0826c5567655ba3b72f18', '/poa/xdai/address/0x5319e9c770a358fc3269ee84929c5210a108e88c', '/poa/xdai/address/0xbafb7202781dc7df919deeb382b34deafd5b43fe', '/poa/xdai/address/0x4595197a4e3e9e9dfdd3a3fc3a3ffa9de7cb01d1', '/poa/xdai/address/0x0492b9170ec01d91f3aa721ff8ada42dd33fbbb8', '/poa/xdai/address/0xc651392a07b2112fa93e255d124fd2b26749a788', '/poa/xdai/address/0xd3f151c61815babf4a898c82e99c4b354d5f052f', '/poa/xdai/address/0x64e4e7a2b9e6200a8f5bf325b99fce098d6bc58c', '/poa/xdai/address/0x6efd4bdcf8039139eda49bb7a1b7f66a6f1cbcbc', '/poa/xdai/address/0x2e2fe5c234d55723defe3a307bed5c60b70cb830', '/poa/xdai/address/0xa2d93114e1378ae9595813e77164aad3f2600388', '/poa/xdai/address/0x051449080e038b609766260779aa5fff31ddc19c', '/poa/xdai/address/0x0f85508ec9bc2c280c8b884eac4303c51e304379', '/poa/xdai/address/0x16bed704e654c421ab8eace000f9343a0edf09a0', '/poa/xdai/address/0x171a3e31055530f2a3b9ba7ae3d88bb35ed7378e', '/poa/xdai/address/0x1acde32ba8d37f0b0d5139ded0d0dad46c59f337', '/poa/xdai/address/0x1c9ea873c88d5258d0ba19f2951997d29c0468f0', '/poa/xdai/address/0x1d719e0fc5460c4cbb0448321204993b29e09d90', '/poa/xdai/address/0x1fd5ca64fde4183aad9356f354d51d14b63a247b', '/poa/xdai/address/0x23ca2f122c88bc0d948ebcb8fb6b48044d36ffb1', '/poa/xdai/address/0x2431b4b45e92761f52a8422e1e300f4612e4ffa3', '/poa/xdai/address/0x2d0fdab1e1d8b932d3a51980ed9156fd9ffffb88', '/poa/xdai/address/0x31766d841dc7b9f5d7e1fd893ecef5bb435818c3', '/poa/xdai/address/0x3bb05c21f4915f85bc3d269345e0098afc677ca5', '/poa/xdai/address/0x4489a5368e5ea24b176d6d526e5583addc9b5eed', '/poa/xdai/address/0x452229b60166d4e536f095af4433010d4caf81c0', '/poa/xdai/address/0x472d312781ba2ca13d782c842c68fd296c4f8d7e', '/poa/xdai/address/0x47ac9ce80c582302add1aa20b1caafb8f039b44a', '/poa/xdai/address/0x47c0b977e4d77241fe44c6c53a9d825f9b853b5e']\n"
     ]
    }
   ],
   "source": [
    "row = table[0].get_attribute('innerHTML')\n",
    "addresses = []\n",
    "soup = BeautifulSoup(row,'html.parser')\n",
    "r = soup.find_all(\"tr\")\n",
    "for i,x in enumerate(r):\n",
    "    col = x.find_all(\"td\")\n",
    "    addresses.append(col[1].a[\"href\"])\n",
    "    \n",
    "print(addresses)"
   ]
  },
  {
   "cell_type": "code",
   "execution_count": 33,
   "metadata": {},
   "outputs": [
    {
     "name": "stdout",
     "output_type": "stream",
     "text": [
      "start\n",
      "0\n",
      "ready\n",
      "1\n",
      "ready\n",
      "2\n",
      "ready\n",
      "3\n",
      "ready\n",
      "4\n",
      "ready\n",
      "5\n",
      "ready\n",
      "6\n",
      "ready\n",
      "7\n",
      "ready\n",
      "8\n",
      "ready\n",
      "9\n",
      "ready\n",
      "10\n",
      "ready\n",
      "11\n",
      "ready\n",
      "12\n",
      "ready\n",
      "13\n",
      "ready\n",
      "14\n",
      "ready\n",
      "15\n",
      "ready\n",
      "16\n",
      "ready\n",
      "17\n",
      "ready\n",
      "18\n",
      "ready\n",
      "19\n",
      "ready\n",
      "20\n",
      "ready\n",
      "21\n",
      "ready\n",
      "22\n",
      "ready\n",
      "23\n",
      "ready\n",
      "24\n",
      "ready\n",
      "25\n",
      "ready\n",
      "26\n",
      "ready\n",
      "27\n",
      "ready\n",
      "28\n",
      "ready\n",
      "29\n",
      "ready\n",
      "30\n",
      "ready\n",
      "31\n",
      "ready\n",
      "32\n",
      "ready\n",
      "33\n",
      "ready\n",
      "34\n",
      "ready\n",
      "35\n",
      "ready\n",
      "36\n",
      "ready\n",
      "'NoneType' object has no attribute 'h3'\n",
      "37\n",
      "ready\n",
      "'NoneType' object has no attribute 'h3'\n",
      "38\n",
      "ready\n",
      "'NoneType' object has no attribute 'h3'\n",
      "39\n",
      "ready\n",
      "'NoneType' object has no attribute 'h3'\n",
      "40\n",
      "ready\n",
      "'NoneType' object has no attribute 'h3'\n",
      "41\n",
      "ready\n",
      "'NoneType' object has no attribute 'h3'\n",
      "42\n",
      "('Connection aborted.', ConnectionResetError(10054, 'An existing connection was forcibly closed by the remote host', None, 10054, None))\n",
      "43\n",
      "[WinError 6] The handle is invalid\n",
      "44\n",
      "[WinError 6] The handle is invalid\n",
      "45\n",
      "[WinError 6] The handle is invalid\n",
      "46\n",
      "[WinError 6] The handle is invalid\n",
      "47\n",
      "[WinError 6] The handle is invalid\n",
      "48\n",
      "[WinError 6] The handle is invalid\n",
      "49\n",
      "[WinError 6] The handle is invalid\n",
      "done\n"
     ]
    }
   ],
   "source": [
    "import time\n",
    "import pandas as pd\n",
    "\n",
    "from selenium.webdriver.support.ui import WebDriverWait\n",
    "from urllib.request import Request, urlopen\n",
    "print(\"start\")\n",
    "cols = ['Address','Balance','Ether_value','exchange_rate']\n",
    "balance = pd.DataFrame(columns = cols)\n",
    "ind = 93\n",
    "for i,addr in enumerate(addresses):\n",
    "    print(i)\n",
    "    bal = []\n",
    "    try:\n",
    "        ad = (addr.split('/'))[4]\n",
    "        url =  'https://blockscout.com'+addr+'/transactions'\n",
    "        op = webdriver.ChromeOptions()\n",
    "        op.add_argument('headless')\n",
    "        drive = webdriver.Chrome(executable_path=r'C:/Users/vaishnavi/Downloads/chromedriver_win32/chromedriver.exe',options=op)\n",
    "        drive.get(url)\n",
    "        drive.implicitly_wait(20)\n",
    "        print(\"ready\")\n",
    "        row = drive.page_source\n",
    "        soup = BeautifulSoup(row,'html.parser')\n",
    "        eth = soup.find(\"div\", {\"class\": \"text-right\"})\n",
    "        bal.append(ad)\n",
    "        bal.append(eth.h3.text)\n",
    "        bal.append(eth.span.text)\n",
    "        bal.append(eth.span[\"data-usd-exchange-rate\"])\n",
    "        balance.loc[ind] = bal\n",
    "        ind = ind+1\n",
    "\n",
    "        down = soup.find(\"a\", {\"class\": \"download-all-transactions-link\"})\n",
    "        d_url = down[\"href\"]\n",
    "        d = \"https://blockscout.com\"+d_url\n",
    "        try:\n",
    "            df = pd.read_csv(d)  \n",
    "        except:\n",
    "            print(\"error\")\n",
    "        df['Address'] = ad\n",
    "        drive.close()\n",
    "    except Exception as e: \n",
    "        print(e)\n",
    "balance.to_csv(r'F:\\vprojects\\final_year\\phase2_bal.csv',mode='a', header=False)\n",
    "df.to_csv(r'F:\\vprojects\\final_year\\phase2_trans.csv',mode='a',header=False)\n",
    "   \n",
    "print(\"done\")"
   ]
  },
  {
   "cell_type": "code",
   "execution_count": 30,
   "metadata": {},
   "outputs": [
    {
     "name": "stdout",
     "output_type": "stream",
     "text": [
      "/poa/xdai/accounts?fetched_coin_balance=9999868000000000000&hash=0x1b8913a9bafbe4afbc5794df01649cb69bee91e3\n"
     ]
    }
   ],
   "source": [
    "s = driver.page_source\n",
    "x = driver.find_elements_by_xpath(\"/html/body/div/main/section/div/div/div[3]/ul/li[4]\")\n",
    "\n",
    "ne =BeautifulSoup((x[0].get_attribute('innerHTML')),'html.parser')\n",
    "\n",
    "m = ne.find(\"a\", {\"class\": \"page-link\"})\n",
    "\n",
    "next_page = m[\"href\"]\n",
    "print(next_page)"
   ]
  },
  {
   "cell_type": "code",
   "execution_count": 7,
   "metadata": {},
   "outputs": [
    {
     "name": "stdout",
     "output_type": "stream",
     "text": [
      "https://blockscout.com/poa/xdai/accounts?fetched_coin_balance=25442757826838337742&hash=0x0fe1ee93ddf42c80e5a32e9f0ba8b22cf8859cf9\n"
     ]
    }
   ],
   "source": [
    "print(url)"
   ]
  },
  {
   "cell_type": "code",
   "execution_count": 8,
   "metadata": {},
   "outputs": [
    {
     "name": "stdout",
     "output_type": "stream",
     "text": [
      "/poa/xdai/accounts?fetched_coin_balance=19999195985000000000&hash=0xb8b7628f058c0a8b50462af6e14ae7b8b8a3b661\n"
     ]
    }
   ],
   "source": [
    "print(next_page)"
   ]
  },
  {
   "cell_type": "code",
   "execution_count": null,
   "metadata": {},
   "outputs": [],
   "source": []
  }
 ],
 "metadata": {
  "kernelspec": {
   "display_name": "Python 3",
   "language": "python",
   "name": "python3"
  },
  "language_info": {
   "codemirror_mode": {
    "name": "ipython",
    "version": 3
   },
   "file_extension": ".py",
   "mimetype": "text/x-python",
   "name": "python",
   "nbconvert_exporter": "python",
   "pygments_lexer": "ipython3",
   "version": "3.6.4"
  }
 },
 "nbformat": 4,
 "nbformat_minor": 2
}
