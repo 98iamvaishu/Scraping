{
 "cells": [
  {
   "cell_type": "code",
   "execution_count": null,
   "metadata": {},
   "outputs": [],
   "source": [
    "from selenium import webdriver\n",
    "from bs4 import BeautifulSoup\n",
    "driver = webdriver.Chrome(executable_path=r'C:/Users/vaishnavi/Downloads/chromedriver_win32/chromedriver.exe')\n",
    "url = 'https://blockscout.com/poa/xdai/accounts?fetched_coin_balance=25442757826838337742&hash=0x0fe1ee93ddf42c80e5a32e9f0ba8b22cf8859cf9'\n",
    "driver.get(url)\n",
    "driver.implicitly_wait(50)\n",
    "table = driver.find_elements_by_xpath(\"/html/body/div/main/section/div/div/div[2]/div/table/tbody\")\n",
    "print(table)"
   ]
  },
  {
   "cell_type": "code",
   "execution_count": null,
   "metadata": {},
   "outputs": [],
   "source": [
    "row = table[0].get_attribute('innerHTML')\n",
    "addresses = []\n",
    "soup = BeautifulSoup(row,'html.parser')\n",
    "r = soup.find_all(\"tr\")\n",
    "for i,x in enumerate(r):\n",
    "    col = x.find_all(\"td\")\n",
    "    addresses.append(col[1].a[\"href\"])\n",
    "print(addresses)"
   ]
  },
  {
   "cell_type": "code",
   "execution_count": null,
   "metadata": {},
   "outputs": [],
   "source": [
    "import time\n",
    "import pandas as pd\n",
    "\n",
    "from selenium.webdriver.support.ui import WebDriverWait\n",
    "from urllib.request import Request, urlopen\n",
    "print(\"start\")\n",
    "cols = ['Address','Balance','Ether_value','exchange_rate']\n",
    "balance = pd.DataFrame(columns = cols)\n",
    "ind = 93\n",
    "for i,addr in enumerate(addresses):\n",
    "    print(i)\n",
    "    bal = []\n",
    "    try:\n",
    "        ad = (addr.split('/'))[4]\n",
    "        url =  'https://blockscout.com'+addr+'/transactions'\n",
    "        op = webdriver.ChromeOptions()\n",
    "        op.add_argument('headless')\n",
    "        drive = webdriver.Chrome(executable_path=r'C:/Users/vaishnavi/Downloads/chromedriver_win32/chromedriver.exe',options=op)\n",
    "        drive.get(url)\n",
    "        drive.implicitly_wait(20)\n",
    "        print(\"ready\")\n",
    "        row = drive.page_source\n",
    "        soup = BeautifulSoup(row,'html.parser')\n",
    "        eth = soup.find(\"div\", {\"class\": \"text-right\"})\n",
    "        bal.append(ad)\n",
    "        bal.append(eth.h3.text)\n",
    "        bal.append(eth.span.text)\n",
    "        bal.append(eth.span[\"data-usd-exchange-rate\"])\n",
    "        balance.loc[ind] = bal\n",
    "        ind = ind+1\n",
    "\n",
    "        down = soup.find(\"a\", {\"class\": \"download-all-transactions-link\"})\n",
    "        d_url = down[\"href\"]\n",
    "        d = \"https://blockscout.com\"+d_url\n",
    "        try:\n",
    "            df = pd.read_csv(d)  \n",
    "        except:\n",
    "            print(\"error\")\n",
    "        df['Address'] = ad\n",
    "        drive.close()\n",
    "    except Exception as e: \n",
    "        print(e)\n",
    "balance.to_csv(r'F:\\vprojects\\final_year\\phase2_bal.csv',mode='a', header=False)\n",
    "df.to_csv(r'F:\\vprojects\\final_year\\phase2_trans.csv',mode='a',header=False)\n",
    "   \n",
    "print(\"done\")"
   ]
  },
  {
   "cell_type": "code",
   "execution_count": null,
   "metadata": {},
   "outputs": [],
   "source": [
    "s = driver.page_source\n",
    "x = driver.find_elements_by_xpath(\"/html/body/div/main/section/div/div/div[3]/ul/li[4]\")\n",
    "\n",
    "ne =BeautifulSoup((x[0].get_attribute('innerHTML')),'html.parser')\n",
    "\n",
    "m = ne.find(\"a\", {\"class\": \"page-link\"})\n",
    "\n",
    "next_page = m[\"href\"]\n",
    "print(next_page)"
   ]
  },
  {
   "cell_type": "code",
   "execution_count": null,
   "metadata": {},
   "outputs": [],
   "source": []
  },
  {
   "cell_type": "code",
   "execution_count": null,
   "metadata": {},
   "outputs": [],
   "source": []
  }
 ],
 "metadata": {
  "kernelspec": {
   "display_name": "Python 3",
   "language": "python",
   "name": "python3"
  },
  "language_info": {
   "codemirror_mode": {
    "name": "ipython",
    "version": 3
   },
   "file_extension": ".py",
   "mimetype": "text/x-python",
   "name": "python",
   "nbconvert_exporter": "python",
   "pygments_lexer": "ipython3",
   "version": "3.6.4"
  }
 },
 "nbformat": 4,
 "nbformat_minor": 2
}
